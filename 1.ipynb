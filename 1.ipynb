{
  "cells": [
    {
      "cell_type": "markdown",
      "metadata": {
        "id": "grpDRqKZkF27"
      },
      "source": [
        "<div id=\"capcalera\">\n",
        "<p><a href=\"https://colab.research.google.com/github/algorismica2020/algorismica2020.github.io/blob/master/notebookscolab/PythonPractica1.ipynb\"><img style=\"margin:-10px 10px 20px 0\" width=\"150px\" align=\"right\" src=\"https://raw.githubusercontent.com/algorismica2019/problemes/master/assets/colab-badge.png?raw=1\" alt=\"Obrir a Colab\" title=\"Obrir i executar a Google Colaboratory\"></a></p>\n",
        "<p style=\"clear:both\"><img align='left' width=\"300px\" style=\"padding-right:10px;float=left\" src=\"https://raw.githubusercontent.com/algorismica2019/problemes/master/assets/al-khwarizmi.png\">Aquest notebook complementa els continguts teòrics de l'assignatura d'<strong>Algorísmica</strong> del Grau d'Enginyeria Informàtica a la <a href=\"https://mat.ub.edu\">Facultat de Matemàtiques i Informàtica</a> de la <a href=\"https://www.ub.edu\">Universitat de Barcelona</a> impartida per <em>Jordi Vitrià</em> i <em>Mireia Ribera</em></p>\n",
        "\n",
        "<p>Els problemes s'ofereixen sota llicència <a href=\"https://creativecommons.org/licenses/by-nc-nd/3.0/us/legalcode\">CC-BY-NC-ND license</a>, i el codi sota <a href=\"https://opensource.org/licenses/MIT\">Llicència MIT</a>.</p>\n",
        "\n",
        "</div>"
      ]
    },
    {
      "cell_type": "markdown",
      "metadata": {
        "id": "QavhPQ6ckF2_"
      },
      "source": [
        "# <span class=\"tema\">(Python)</span> Pràctica dels conceptes inicials"
      ]
    },
    {
      "cell_type": "code",
      "execution_count": 10,
      "metadata": {
        "id": "NTFnwrcAkF3B"
      },
      "outputs": [],
      "source": [
        "# Completa els programes següents segons les indicacions donades\n",
        "# després crida'ls i comprova que funcionen\n",
        "\n",
        "def  nom(nom):      # falta el nom de la funció\n",
        "    print(nom)\n",
        "\n",
        "\n",
        "def calcul(x, y):  # algun signe?\n",
        "    print(x + y)\n",
        "\n",
        "def calcul_per_teclat():\n",
        "    x = eval(input(\"Digues un nombre:\"))\n",
        "    y = eval(input(\"Digues un altre nombre:\"))         # completa-ho\n",
        "    print(x * y)\n",
        "\n",
        "def elevat_a_3(n):\n",
        "    print(n ** 3)      # com es feia la potència?\n"
      ]
    },
    {
      "cell_type": "code",
      "execution_count": 11,
      "metadata": {
        "id": "_nv0HcLakF3X"
      },
      "outputs": [
        {
          "name": "stdout",
          "output_type": "stream",
          "text": [
            "nom\n"
          ]
        }
      ],
      "source": [
        "nom(\"nom\")               # aquí falta una crida"
      ]
    },
    {
      "cell_type": "code",
      "execution_count": 17,
      "metadata": {
        "id": "4mSOi9RtkF3y"
      },
      "outputs": [
        {
          "name": "stdout",
          "output_type": "stream",
          "text": [
            "45\n"
          ]
        }
      ],
      "source": [
        "#calcul(43,2)#\n",
        "\n",
        "def calcul(x, y):\n",
        "    print(x + y) \n",
        "    \n",
        "calcul(43, 2) "
      ]
    },
    {
      "cell_type": "code",
      "execution_count": 24,
      "metadata": {},
      "outputs": [
        {
          "name": "stdout",
          "output_type": "stream",
          "text": [
            "49\n"
          ]
        }
      ],
      "source": [
        "def calcul():\n",
        "    x = 45\n",
        "    y = 4\n",
        "    print(x + y) \n",
        "    \n",
        "calcul() "
      ]
    },
    {
      "cell_type": "code",
      "execution_count": 20,
      "metadata": {
        "id": "BtNP3Hw4kF4m"
      },
      "outputs": [
        {
          "name": "stdout",
          "output_type": "stream",
          "text": [
            "6\n"
          ]
        }
      ],
      "source": [
        "#calcul_per_teclat()#\n",
        "\n",
        "def calcul_per_teclat():\n",
        "    x = eval(input(\"Digues un nombre:\"))\n",
        "    y = eval(input(\"Digues un altre nombre:\"))         \n",
        "    print(x * y)\n",
        "\n",
        "calcul_per_teclat()"
      ]
    },
    {
      "cell_type": "code",
      "execution_count": 21,
      "metadata": {
        "id": "0h3geSGikF48"
      },
      "outputs": [
        {
          "data": {
            "text/plain": [
              "243"
            ]
          },
          "execution_count": 21,
          "metadata": {},
          "output_type": "execute_result"
        }
      ],
      "source": [
        "3 ** 5"
      ]
    },
    {
      "cell_type": "code",
      "execution_count": 1,
      "metadata": {
        "id": "ivXrDiYhkF5Z"
      },
      "outputs": [
        {
          "ename": "ERROR",
          "evalue": "Error in parse(text = x, srcfile = src): <text>:3:7: unexpected numeric constant\n2: \n3: print 3\n         ^\n",
          "output_type": "error",
          "traceback": [
            "Error in parse(text = x, srcfile = src): <text>:3:7: unexpected numeric constant\n2: \n3: print 3\n         ^\nTraceback:\n"
          ]
        }
      ],
      "source": [
        "# Corregeix, si cal, les següents instruccions\n",
        "\n",
        "print 3\n",
        "print \"hola\"\n",
        "print(3)\n",
        "print(hola)"
      ]
    },
    {
      "cell_type": "markdown",
      "metadata": {
        "id": "RdomxG3lkF54"
      },
      "source": [
        "Indica al costat de cada nom de funció o variable si és correcte o no\n",
        "(segons les indicacions donades a teoria):\n",
        "    \n",
        "+ Hola\n",
        "+ FuncioMagnifica\n",
        "+ 1que_vol\n",
        "+ funcio magnifica\n",
        "+ funcio_magnifica\n",
        "+ funcio-magnifica\n",
        "+ while\n",
        "+ CALCUL"
      ]
    },
    {
      "cell_type": "markdown",
      "metadata": {
        "id": "Vjwlt3A6kF5-"
      },
      "source": [
        "Què fa \"end=''\" quan ho posem al final de print? busca-ho als apunts, experimenta i explica-ho"
      ]
    },
    {
      "cell_type": "code",
      "execution_count": 29,
      "metadata": {
        "id": "5vnCudMHkF6D"
      },
      "outputs": [
        {
          "ename": "SyntaxError",
          "evalue": "invalid syntax (1093860426.py, line 10)",
          "output_type": "error",
          "traceback": [
            "\u001b[1;36m  Cell \u001b[1;32mIn[29], line 10\u001b[1;36m\u001b[0m\n\u001b[1;33m    print(x)end=\u001b[0m\n\u001b[1;37m            ^\u001b[0m\n\u001b[1;31mSyntaxError\u001b[0m\u001b[1;31m:\u001b[0m invalid syntax\n"
          ]
        }
      ],
      "source": [
        "# Posa les instruccions per demanar la dada que s'indica seguint els patrons:\n",
        "# Comprova de quin tipus és la variable resultant\n",
        "\n",
        "nom = input(\"Digues el teu nom:\")\n",
        "type(nom)  # per defecte input sempre llegeix una cadena\n",
        "print(nom)\n",
        "x = eval(input(\"Digues la teva edat:\"))\n",
        "           # si volem llegir un nombre hem de posar \"eval\"\n",
        "type(x)\n",
        "print(x)\n",
        "\n",
        "#end= afegeix un espai al final de lo printejat#"
      ]
    },
    {
      "cell_type": "code",
      "execution_count": 32,
      "metadata": {
        "id": "ZqHHqP5AkF6t"
      },
      "outputs": [
        {
          "name": "stdout",
          "output_type": "stream",
          "text": [
            "barcelona\n"
          ]
        }
      ],
      "source": [
        "# demana la ciutat on viu\n",
        "\n",
        "ciutat = input(\"Digues la ciutat on vius\")\n",
        "type(ciutat)\n",
        "print(ciutat)"
      ]
    },
    {
      "cell_type": "code",
      "execution_count": 33,
      "metadata": {
        "id": "tP9Zlc1ukF7I"
      },
      "outputs": [
        {
          "name": "stdout",
          "output_type": "stream",
          "text": [
            "1,57\n"
          ]
        }
      ],
      "source": [
        "alçada = input(\"Digues la teva alçada\")\n",
        "type(alçada)\n",
        "print(alçada)"
      ]
    },
    {
      "cell_type": "code",
      "execution_count": 34,
      "metadata": {
        "id": "zE-mATRFkF7t"
      },
      "outputs": [
        {
          "name": "stdout",
          "output_type": "stream",
          "text": [
            "0\n"
          ]
        }
      ],
      "source": [
        "germans = input(\"Digues quants germans tens\")\n",
        "type(germans)\n",
        "print(germans)"
      ]
    },
    {
      "cell_type": "code",
      "execution_count": 35,
      "metadata": {
        "id": "vxv2vb1ekF8M"
      },
      "outputs": [
        {
          "name": "stdout",
          "output_type": "stream",
          "text": [
            "castella\n"
          ]
        }
      ],
      "source": [
        "idioma = input(\"Digues el teu idioma preferent\")\n",
        "type(idioma)\n",
        "print(idioma)"
      ]
    },
    {
      "cell_type": "code",
      "execution_count": null,
      "metadata": {
        "id": "SUpXQEoCkF8m"
      },
      "outputs": [],
      "source": [
        "# Escriu un programa per intercanviar 4 variables de valor\n",
        "# inicialment x = 4, y = 5, w = 6, z = 7\n",
        "# al final has d'aconseguir que x = 7, y =4, w = 5 i z = 6"
      ]
    },
    {
      "cell_type": "code",
      "execution_count": null,
      "metadata": {
        "id": "ygKWXQs6kF8_"
      },
      "outputs": [],
      "source": [
        "# A partir del següent model, canvia els valors del for\n",
        "# per mostrar els valors demanats:"
      ]
    },
    {
      "cell_type": "code",
      "execution_count": null,
      "metadata": {
        "id": "fwUo4zW2kF9Q"
      },
      "outputs": [],
      "source": [
        "# Model, mostra els valors de 2 a 10 en salts de 3 en 3\n",
        "\n",
        "for i in range (2,10,3):\n",
        "    print(i)"
      ]
    },
    {
      "cell_type": "code",
      "execution_count": null,
      "metadata": {
        "id": "TTZoXko4kF9n"
      },
      "outputs": [],
      "source": [
        "# Copia el model i canvia els valors per a que mostri 0 a 5 de 1 en 1"
      ]
    },
    {
      "cell_type": "code",
      "execution_count": null,
      "metadata": {
        "id": "3QGoiTs2kF93"
      },
      "outputs": [],
      "source": [
        "# Pots simplificar el codi de l'anterior casella amb els mateixos resultats?"
      ]
    },
    {
      "cell_type": "code",
      "execution_count": null,
      "metadata": {
        "id": "3Evlbyt6kF-I"
      },
      "outputs": [],
      "source": [
        "# Copia el model i canvia els valors per a que es mostri 8,6,4"
      ]
    },
    {
      "cell_type": "markdown",
      "metadata": {
        "id": "h28J6ShJkF-Z"
      },
      "source": [
        "Escriu un programa que pregunti algunes dades personals i després les mostri per pantalla de manera ordenada."
      ]
    },
    {
      "cell_type": "markdown",
      "metadata": {
        "id": "zeQQDl3zkF-h"
      },
      "source": [
        "<div id=\"peu\">\n",
        "<p><a href=\"https://colab.research.google.com/github/algorismica2020/algorismica2020.github.io/blob/master/notebookscolab/PythonPractica1.ipynb\"><img style=\"margin:-10px 10px 20px 0\" width=\"150px\" align=\"right\" src=\"https://raw.githubusercontent.com/algorismica2019/problemes/master/assets/colab-badge.png?raw=1\" alt=\"Obrir a Colab\" title=\"Obrir i executar a Google Colaboratory\"></a></p>\n",
        "</div>"
      ]
    }
  ],
  "metadata": {
    "colab": {
      "name": "Copy of PythonPractica1.ipynb",
      "provenance": []
    },
    "kernelspec": {
      "display_name": "base",
      "language": "python",
      "name": "python3"
    },
    "language_info": {
      "codemirror_mode": {
        "name": "ipython",
        "version": 3
      },
      "file_extension": ".py",
      "mimetype": "text/x-python",
      "name": "python",
      "nbconvert_exporter": "python",
      "pygments_lexer": "ipython3",
      "version": "3.11.7"
    }
  },
  "nbformat": 4,
  "nbformat_minor": 0
}
